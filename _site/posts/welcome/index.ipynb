{
  "cells": [
    {
      "cell_type": "markdown",
      "metadata": {},
      "source": [
        "# first\n",
        "\n",
        "kione kim  \n",
        "2023-10-16\n",
        "\n",
        "This in first contents"
      ],
      "id": "48420f8c-7223-4dbb-b460-53a435defa46"
    }
  ],
  "nbformat": 4,
  "nbformat_minor": 5,
  "metadata": {
    "kernelspec": {
      "display_name": "Python 3",
      "language": "python",
      "name": "python3"
    }
  }
}
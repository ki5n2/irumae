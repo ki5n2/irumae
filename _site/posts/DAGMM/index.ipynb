{
  "cells": [
    {
      "cell_type": "markdown",
      "metadata": {},
      "source": [
        "# DAGMM\n",
        "\n",
        "kione kim  \n",
        "2023-10-15\n",
        "\n",
        "This is a post"
      ],
      "id": "13afb75a-3cb0-4161-87b9-fb6996d20152"
    }
  ],
  "nbformat": 4,
  "nbformat_minor": 5,
  "metadata": {
    "kernelspec": {
      "display_name": "Python 3",
      "language": "python",
      "name": "python3"
    }
  }
}
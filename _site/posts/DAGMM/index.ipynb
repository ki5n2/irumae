{
  "cells": [
    {
      "cell_type": "markdown",
      "metadata": {},
      "source": [
        "# DAGMM\n",
        "\n",
        "kione kim  \n",
        "2023-10-15\n",
        "\n",
        "This is a post"
      ],
      "id": "0e1ae3de-0ee2-4fe0-8185-eeac61c6346e"
    }
  ],
  "nbformat": 4,
  "nbformat_minor": 5,
  "metadata": {
    "kernelspec": {
      "display_name": "Python 3",
      "language": "python",
      "name": "python3"
    }
  }
}
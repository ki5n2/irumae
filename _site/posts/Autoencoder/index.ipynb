{
  "cells": [
    {
      "cell_type": "markdown",
      "metadata": {},
      "source": [
        "# Autoencoder\n",
        "\n",
        "kione kim  \n",
        "2023-10-10\n",
        "\n",
        "This in first contents"
      ],
      "id": "071c5065-a718-411b-ae26-7602f6808a1c"
    }
  ],
  "nbformat": 4,
  "nbformat_minor": 5,
  "metadata": {
    "kernelspec": {
      "display_name": "Python 3",
      "language": "python",
      "name": "python3"
    }
  }
}
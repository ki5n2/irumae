{
  "cells": [
    {
      "cell_type": "markdown",
      "metadata": {},
      "source": [
        "# Autoencoder\n",
        "\n",
        "kione kim  \n",
        "2023-10-10\n",
        "\n",
        "This in first contents"
      ],
      "id": "01431548-c0dd-4a92-b986-2af6d3675eef"
    }
  ],
  "nbformat": 4,
  "nbformat_minor": 5,
  "metadata": {
    "kernelspec": {
      "display_name": "Python 3",
      "language": "python",
      "name": "python3"
    }
  }
}
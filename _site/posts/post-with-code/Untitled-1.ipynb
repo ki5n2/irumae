{
  "cells": [
    {
      "cell_type": "markdown",
      "metadata": {},
      "source": [
        "# Untitled"
      ],
      "id": "b5ec81b7-9481-4c16-b97d-f347af49c150"
    }
  ],
  "nbformat": 4,
  "nbformat_minor": 5,
  "metadata": {
    "kernelspec": {
      "display_name": "Python 3",
      "language": "python",
      "name": "python3"
    }
  }
}
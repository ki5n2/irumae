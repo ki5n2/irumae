{
  "cells": [
    {
      "cell_type": "markdown",
      "metadata": {},
      "source": [
        "# second\n",
        "\n",
        "kione kim  \n",
        "2023-10-16\n",
        "\n",
        "This is a post"
      ],
      "id": "94f7095b-b725-4557-9bd5-bcb74aba2aef"
    }
  ],
  "nbformat": 4,
  "nbformat_minor": 5,
  "metadata": {
    "kernelspec": {
      "display_name": "Python 3",
      "language": "python",
      "name": "python3"
    }
  }
}
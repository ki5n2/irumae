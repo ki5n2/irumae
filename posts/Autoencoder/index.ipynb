{
  "cells": [
    {
      "cell_type": "markdown",
      "metadata": {},
      "source": [
        "# Autoencoder\n",
        "\n",
        "kione kim  \n",
        "2023-10-10\n",
        "\n",
        "This in first contents"
      ],
      "id": "296da5b3-8dd0-4e67-9ac4-f9d45356b37b"
    }
  ],
  "nbformat": 4,
  "nbformat_minor": 5,
  "metadata": {
    "kernelspec": {
      "display_name": "Python 3",
      "language": "python",
      "name": "python3"
    }
  }
}
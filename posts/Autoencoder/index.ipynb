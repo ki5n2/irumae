{
  "cells": [
    {
      "cell_type": "markdown",
      "metadata": {},
      "source": [
        "# Autoencoder\n",
        "\n",
        "kione kim  \n",
        "2023-10-10\n",
        "\n",
        "This in first contents"
      ],
      "id": "00fe9692-017b-4fe8-8cca-11300ab0ccf7"
    }
  ],
  "nbformat": 4,
  "nbformat_minor": 5,
  "metadata": {
    "kernelspec": {
      "display_name": "Python 3",
      "language": "python",
      "name": "python3"
    }
  }
}
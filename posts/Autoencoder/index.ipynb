{
  "cells": [
    {
      "cell_type": "markdown",
      "metadata": {},
      "source": [
        "# Autoencoder\n",
        "\n",
        "kione kim  \n",
        "2023-10-06\n",
        "\n",
        "Autoencoding"
      ],
      "id": "6febc0a8-97c5-41ac-aa55-0e9ed54d1874"
    }
  ],
  "nbformat": 4,
  "nbformat_minor": 5,
  "metadata": {
    "kernelspec": {
      "display_name": "Python 3",
      "language": "python",
      "name": "python3"
    }
  }
}
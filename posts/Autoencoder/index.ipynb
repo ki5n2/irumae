{
  "cells": [
    {
      "cell_type": "markdown",
      "metadata": {},
      "source": [
        "# Autoencoder\n",
        "\n",
        "kione kim  \n",
        "2023-10-06\n",
        "\n",
        "Autoencoding"
      ],
      "id": "04a76f62-1dd0-42b6-a421-34b732402e4a"
    }
  ],
  "nbformat": 4,
  "nbformat_minor": 5,
  "metadata": {
    "kernelspec": {
      "display_name": "Python 3",
      "language": "python",
      "name": "python3"
    }
  }
}